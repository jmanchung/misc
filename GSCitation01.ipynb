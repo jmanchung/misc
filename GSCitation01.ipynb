{
 "cells": [
  {
   "cell_type": "markdown",
   "metadata": {},
   "source": [
    "# GoogleScholarCitation"
   ]
  },
  {
   "cell_type": "markdown",
   "metadata": {},
   "source": [
    "## 2020-01-07: scholarly 패키지는 논문 제목을 주면 "
   ]
  },
  {
   "cell_type": "code",
   "execution_count": 10,
   "metadata": {},
   "outputs": [],
   "source": [
    "import scholarly as sch"
   ]
  },
  {
   "cell_type": "code",
   "execution_count": 11,
   "metadata": {},
   "outputs": [
    {
     "name": "stdout",
     "output_type": "stream",
     "text": [
      "{'_filled': False,\n",
      " 'affiliation': 'Assistant Project Scientist, University of California, '\n",
      "                'Berkeley',\n",
      " 'citedby': 241,\n",
      " 'email': '@berkeley.edu',\n",
      " 'id': '4bahYMkAAAAJ',\n",
      " 'interests': ['Depth Cues',\n",
      "               '3D Shape',\n",
      "               'Shape from Texture & Shading',\n",
      "               'Naive Physics',\n",
      "               'Haptics'],\n",
      " 'name': 'Steven A. Cholewiak',\n",
      " 'url_picture': 'https://scholar.google.com/citations?view_op=medium_photo&user=4bahYMkAAAAJ'}\n"
     ]
    }
   ],
   "source": [
    "#search_author -- Search for an author by name and return a generator of Author objects.\n",
    "print(next(sch.search_author('Steven A. Cholewiak')))"
   ]
  },
  {
   "cell_type": "code",
   "execution_count": 26,
   "metadata": {},
   "outputs": [
    {
     "name": "stdout",
     "output_type": "stream",
     "text": [
      "{'_filled': False,\n",
      " 'affiliation': 'Professor of Vision Science, UC Berkeley',\n",
      " 'citedby': 19663,\n",
      " 'email': '@berkeley.edu',\n",
      " 'id': 'Smr99uEAAAAJ',\n",
      " 'interests': ['vision science', 'psychology', 'human factors', 'neuroscience'],\n",
      " 'name': 'Martin Banks',\n",
      " 'url_picture': 'https://scholar.google.com/citations?view_op=medium_photo&user=Smr99uEAAAAJ'}\n"
     ]
    }
   ],
   "source": [
    "search_query = sch.search_author('Marty Banks, Berkeley')\n",
    "print(next(search_query))"
   ]
  },
  {
   "cell_type": "code",
   "execution_count": 30,
   "metadata": {},
   "outputs": [
    {
     "data": {
      "text/plain": [
       "<generator object _search_citation_soup at 0x0000026093E2E948>"
      ]
     },
     "execution_count": 30,
     "metadata": {},
     "output_type": "execute_result"
    }
   ],
   "source": [
    "search_query"
   ]
  },
  {
   "cell_type": "code",
   "execution_count": 8,
   "metadata": {},
   "outputs": [
    {
     "name": "stdout",
     "output_type": "stream",
     "text": [
      "{'_filled': False,\n",
      " 'affiliation': 'Postdoctoral research assistant, University of Bremen',\n",
      " 'citedby': 55478,\n",
      " 'email': '@collision-detection.com',\n",
      " 'id': 'lHrs3Y4AAAAJ',\n",
      " 'interests': ['Computer Graphics',\n",
      "               'Collision Detection',\n",
      "               'Haptics',\n",
      "               'Geometric Data Structures'],\n",
      " 'name': 'Rene Weller',\n",
      " 'url_picture': 'https://scholar.google.com/citations?view_op=medium_photo&user=lHrs3Y4AAAAJ'}\n"
     ]
    }
   ],
   "source": [
    "#search_keyword -- Search by keyword and return a generator of Author objects.\n",
    "search_query = sch.search_keyword('Haptics')\n",
    "print(next(search_query))"
   ]
  },
  {
   "cell_type": "code",
   "execution_count": 9,
   "metadata": {},
   "outputs": [
    {
     "name": "stdout",
     "output_type": "stream",
     "text": [
      "{'_filled': False,\n",
      " 'bib': {'abstract': 'Humans can judge from vision alone whether an object is '\n",
      "                     'physically stable or not. Such judgments allow observers '\n",
      "                     'to predict the physical behavior of objects, and hence '\n",
      "                     'to guide their motor actions. We investigated the visual '\n",
      "                     'estimation of physical stability of 3-D objects (shown '\n",
      "                     'in stereoscopically viewed rendered scenes) and how it '\n",
      "                     'relates to visual estimates of their center of mass '\n",
      "                     '(COM). In Experiment 1, observers viewed an object near '\n",
      "                     'the edge of a table and adjusted its tilt to the '\n",
      "                     'perceived critical angle, ie, the tilt angle at which '\n",
      "                     'the object …',\n",
      "         'author': 'SA Cholewiak and RW Fleming and M Singh',\n",
      "         'eprint': 'https://jov.arvojournals.org/article.aspx?articleID=2213254',\n",
      "         'title': 'Perception of physical stability and center of mass of 3-D '\n",
      "                  'objects',\n",
      "         'url': 'https://jov.arvojournals.org/article.aspx?articleID=2213254'},\n",
      " 'source': 'scholar'}\n"
     ]
    }
   ],
   "source": [
    "#search_pubs_query -- Search for articles/publications and return generator of Publication objects.\n",
    "search_query = sch.search_pubs_query('Perception of physical stability and center of mass of 3D objects')\n",
    "print(next(search_query))"
   ]
  },
  {
   "cell_type": "code",
   "execution_count": 31,
   "metadata": {},
   "outputs": [
    {
     "name": "stdout",
     "output_type": "stream",
     "text": [
      "{'_filled': False,\n",
      " 'bib': {'abstract': '는문접수奮: 2012 년 05 惱 07 奮 논문수졍틸; 2012 년 06 월 08 웰 논문게재솨점월 '\n",
      "                     'i 2012 년 06 월 112* 자亂暑 세금해주신 隋켸이지새로인뫄 유익한 조언을 해주신 편집위왼강, '\n",
      "                     '익명의 심사위원, 김 범 교수. 운석헌그수, 정태영 교수, 정선호 님, 그리고 합대흥 교수 온퇴갸념 '\n",
      "                     '미나 …',\n",
      "         'author': '정재만',\n",
      "         'eprint': 'http://img.funddoctor.co.kr/contents/download/thesis/36_KOSPI200_%C3%DF%C0%FB_ETF%C0%C7_%C3%DF%C0%FB%BF%C0%C2%F7_%C7%D1%B1%B9%C0%E7%B9%AB%B0%FC%B8%AE%C7%D0%C8%B8_2012_%C1%A4%C0%E7%B8%B8.pdf',\n",
      "         'title': 'KOSPI200 추적 ETF 의 추적오차',\n",
      "         'url': 'http://img.funddoctor.co.kr/contents/download/thesis/36_KOSPI200_%C3%DF%C0%FB_ETF%C0%C7_%C3%DF%C0%FB%BF%C0%C2%F7_%C7%D1%B1%B9%C0%E7%B9%AB%B0%FC%B8%AE%C7%D0%C8%B8_2012_%C1%A4%C0%E7%B8%B8.pdf'},\n",
      " 'source': 'scholar'}\n"
     ]
    }
   ],
   "source": [
    "#search_pubs_query -- Search for articles/publications and return generator of Publication objects.\n",
    "search_query = sch.search_pubs_query('KOSPI200 추적 ETF의 추적오차')\n",
    "print(next(search_query))"
   ]
  },
  {
   "cell_type": "code",
   "execution_count": 32,
   "metadata": {},
   "outputs": [
    {
     "name": "stdout",
     "output_type": "stream",
     "text": [
      "{'_filled': False,\n",
      " 'bib': {'abstract': 'We examine day‐trading activities for 540 stocks traded '\n",
      "                     'on the Korea Stock Exchange using transactions data for '\n",
      "                     'the period from 1999 to 2000. Our cross‐sectional '\n",
      "                     'analysis reveals that day‐traders prefer lower‐priced, '\n",
      "                     'more liquid, and more volatile stocks. By estimating '\n",
      "                     'various bivariate VAR models using minute‐by‐minute '\n",
      "                     'data, we find that greater day‐trading activity leads to '\n",
      "                     'greater return volatility and that the impact of a '\n",
      "                     'day‐trading shock dissipates gradually within an hour. '\n",
      "                     'Past return volatility also positively affects future '\n",
      "                     'day‐trading …',\n",
      "         'author': 'JM Chung and H Choe and BC Kho',\n",
      "         'eprint': 'https://onlinelibrary.wiley.com/doi/pdf/10.1111/j.2041-6156.2009.tb00014.x',\n",
      "         'title': 'The impact of day‐trading on volatility and liquidity',\n",
      "         'url': 'https://onlinelibrary.wiley.com/doi/abs/10.1111/j.2041-6156.2009.tb00014.x'},\n",
      " 'source': 'scholar'}\n"
     ]
    }
   ],
   "source": [
    "#search_pubs_query -- Search for articles/publications and return generator of Publication objects.\n",
    "search_query = sch.search_pubs_query('The impact of day‐trading on volatility and liquidity')\n",
    "print(next(search_query))"
   ]
  },
  {
   "cell_type": "code",
   "execution_count": 40,
   "metadata": {},
   "outputs": [
    {
     "name": "stdout",
     "output_type": "stream",
     "text": [
      "{'_filled': True,\n",
      " 'affiliation': 'UTMB',\n",
      " 'citedby': 23321,\n",
      " 'citedby5y': 5579,\n",
      " 'cites_per_year': {1983: 82,\n",
      "                    1984: 103,\n",
      "                    1985: 116,\n",
      "                    1986: 143,\n",
      "                    1987: 125,\n",
      "                    1988: 163,\n",
      "                    1989: 159,\n",
      "                    1990: 134,\n",
      "                    1991: 163,\n",
      "                    1992: 124,\n",
      "                    1993: 160,\n",
      "                    1994: 204,\n",
      "                    1995: 200,\n",
      "                    1996: 278,\n",
      "                    1997: 337,\n",
      "                    1998: 340,\n",
      "                    1999: 520,\n",
      "                    2000: 562,\n",
      "                    2001: 586,\n",
      "                    2002: 588,\n",
      "                    2003: 697,\n",
      "                    2004: 803,\n",
      "                    2005: 842,\n",
      "                    2006: 865,\n",
      "                    2007: 877,\n",
      "                    2008: 932,\n",
      "                    2009: 1034,\n",
      "                    2010: 995,\n",
      "                    2011: 1180,\n",
      "                    2012: 1176,\n",
      "                    2013: 1307,\n",
      "                    2014: 1427,\n",
      "                    2015: 1193,\n",
      "                    2016: 1207,\n",
      "                    2017: 1040,\n",
      "                    2018: 1044,\n",
      "                    2019: 1072,\n",
      "                    2020: 22},\n",
      " 'coauthors': [],\n",
      " 'email': '@utmb.edu',\n",
      " 'hindex': 71,\n",
      " 'hindex5y': 28,\n",
      " 'i10index': 148,\n",
      " 'i10index5y': 68,\n",
      " 'id': 'PpCvyN8AAAAJ',\n",
      " 'interests': ['Pain'],\n",
      " 'name': 'Jin Mo Chung',\n",
      " 'publications': [<scholarly.scholarly.Publication object at 0x000002609476BA88>,\n",
      "                  <scholarly.scholarly.Publication object at 0x000002609476BAC8>,\n",
      "                  <scholarly.scholarly.Publication object at 0x000002609476BB08>,\n",
      "                  <scholarly.scholarly.Publication object at 0x000002609476BB48>,\n",
      "                  <scholarly.scholarly.Publication object at 0x000002609476BB88>,\n",
      "                  <scholarly.scholarly.Publication object at 0x000002609476BC08>,\n",
      "                  <scholarly.scholarly.Publication object at 0x000002609476BC48>,\n",
      "                  <scholarly.scholarly.Publication object at 0x000002609476BC88>,\n",
      "                  <scholarly.scholarly.Publication object at 0x000002609476BCC8>,\n",
      "                  <scholarly.scholarly.Publication object at 0x000002609476BBC8>,\n",
      "                  <scholarly.scholarly.Publication object at 0x000002609476BD08>,\n",
      "                  <scholarly.scholarly.Publication object at 0x000002609476BD48>,\n",
      "                  <scholarly.scholarly.Publication object at 0x000002609476BD88>,\n",
      "                  <scholarly.scholarly.Publication object at 0x000002609476BDC8>,\n",
      "                  <scholarly.scholarly.Publication object at 0x000002609476BE08>,\n",
      "                  <scholarly.scholarly.Publication object at 0x000002609476BE48>,\n",
      "                  <scholarly.scholarly.Publication object at 0x000002609476BE88>,\n",
      "                  <scholarly.scholarly.Publication object at 0x000002609476BEC8>,\n",
      "                  <scholarly.scholarly.Publication object at 0x000002609476BF08>,\n",
      "                  <scholarly.scholarly.Publication object at 0x000002609476BF48>,\n",
      "                  <scholarly.scholarly.Publication object at 0x000002609476BF88>,\n",
      "                  <scholarly.scholarly.Publication object at 0x000002609476BFC8>,\n",
      "                  <scholarly.scholarly.Publication object at 0x0000026094771048>,\n",
      "                  <scholarly.scholarly.Publication object at 0x0000026094771088>,\n",
      "                  <scholarly.scholarly.Publication object at 0x00000260947710C8>,\n",
      "                  <scholarly.scholarly.Publication object at 0x0000026094771108>,\n",
      "                  <scholarly.scholarly.Publication object at 0x0000026094771148>,\n",
      "                  <scholarly.scholarly.Publication object at 0x0000026094771188>,\n",
      "                  <scholarly.scholarly.Publication object at 0x00000260947711C8>,\n",
      "                  <scholarly.scholarly.Publication object at 0x0000026094771208>,\n",
      "                  <scholarly.scholarly.Publication object at 0x0000026094771248>,\n",
      "                  <scholarly.scholarly.Publication object at 0x0000026094771288>,\n",
      "                  <scholarly.scholarly.Publication object at 0x00000260947712C8>,\n",
      "                  <scholarly.scholarly.Publication object at 0x0000026094771308>,\n",
      "                  <scholarly.scholarly.Publication object at 0x0000026094771348>,\n",
      "                  <scholarly.scholarly.Publication object at 0x0000026094771388>,\n",
      "                  <scholarly.scholarly.Publication object at 0x00000260947713C8>,\n",
      "                  <scholarly.scholarly.Publication object at 0x0000026094771408>,\n",
      "                  <scholarly.scholarly.Publication object at 0x0000026094771448>,\n",
      "                  <scholarly.scholarly.Publication object at 0x0000026094771488>,\n",
      "                  <scholarly.scholarly.Publication object at 0x00000260947714C8>,\n",
      "                  <scholarly.scholarly.Publication object at 0x0000026094771508>,\n",
      "                  <scholarly.scholarly.Publication object at 0x0000026094771548>,\n",
      "                  <scholarly.scholarly.Publication object at 0x0000026094771588>,\n",
      "                  <scholarly.scholarly.Publication object at 0x00000260947715C8>,\n",
      "                  <scholarly.scholarly.Publication object at 0x0000026094771608>,\n",
      "                  <scholarly.scholarly.Publication object at 0x0000026094771648>,\n",
      "                  <scholarly.scholarly.Publication object at 0x0000026094771688>,\n",
      "                  <scholarly.scholarly.Publication object at 0x00000260947716C8>,\n",
      "                  <scholarly.scholarly.Publication object at 0x0000026094771708>,\n",
      "                  <scholarly.scholarly.Publication object at 0x0000026094771748>,\n",
      "                  <scholarly.scholarly.Publication object at 0x0000026094771788>,\n",
      "                  <scholarly.scholarly.Publication object at 0x00000260947717C8>,\n",
      "                  <scholarly.scholarly.Publication object at 0x0000026094771808>,\n",
      "                  <scholarly.scholarly.Publication object at 0x0000026094771848>,\n",
      "                  <scholarly.scholarly.Publication object at 0x0000026094771888>,\n",
      "                  <scholarly.scholarly.Publication object at 0x00000260947718C8>,\n",
      "                  <scholarly.scholarly.Publication object at 0x0000026094771908>,\n",
      "                  <scholarly.scholarly.Publication object at 0x0000026094771948>,\n",
      "                  <scholarly.scholarly.Publication object at 0x0000026094771988>,\n",
      "                  <scholarly.scholarly.Publication object at 0x00000260947719C8>,\n",
      "                  <scholarly.scholarly.Publication object at 0x0000026094771A08>,\n",
      "                  <scholarly.scholarly.Publication object at 0x0000026094771A48>,\n",
      "                  <scholarly.scholarly.Publication object at 0x0000026094771A88>,\n",
      "                  <scholarly.scholarly.Publication object at 0x0000026094771AC8>,\n",
      "                  <scholarly.scholarly.Publication object at 0x0000026094771B08>,\n",
      "                  <scholarly.scholarly.Publication object at 0x0000026094771B48>,\n",
      "                  <scholarly.scholarly.Publication object at 0x0000026094771B88>,\n",
      "                  <scholarly.scholarly.Publication object at 0x0000026094771BC8>,\n",
      "                  <scholarly.scholarly.Publication object at 0x0000026094771C08>,\n",
      "                  <scholarly.scholarly.Publication object at 0x0000026094771C48>,\n",
      "                  <scholarly.scholarly.Publication object at 0x0000026094771C88>,\n",
      "                  <scholarly.scholarly.Publication object at 0x0000026094771CC8>,\n",
      "                  <scholarly.scholarly.Publication object at 0x0000026094771D08>,\n",
      "                  <scholarly.scholarly.Publication object at 0x0000026094771D48>,\n",
      "                  <scholarly.scholarly.Publication object at 0x0000026094771D88>,\n",
      "                  <scholarly.scholarly.Publication object at 0x0000026094771DC8>,\n",
      "                  <scholarly.scholarly.Publication object at 0x0000026094771E08>,\n",
      "                  <scholarly.scholarly.Publication object at 0x0000026094771E48>,\n",
      "                  <scholarly.scholarly.Publication object at 0x0000026094771E88>,\n",
      "                  <scholarly.scholarly.Publication object at 0x0000026094771EC8>,\n",
      "                  <scholarly.scholarly.Publication object at 0x0000026094771F08>,\n",
      "                  <scholarly.scholarly.Publication object at 0x0000026094771F48>,\n",
      "                  <scholarly.scholarly.Publication object at 0x0000026094771F88>,\n",
      "                  <scholarly.scholarly.Publication object at 0x0000026094771FC8>,\n",
      "                  <scholarly.scholarly.Publication object at 0x000002609477C048>,\n",
      "                  <scholarly.scholarly.Publication object at 0x000002609477C088>,\n",
      "                  <scholarly.scholarly.Publication object at 0x000002609477C0C8>,\n",
      "                  <scholarly.scholarly.Publication object at 0x000002609477C108>,\n",
      "                  <scholarly.scholarly.Publication object at 0x000002609477C148>,\n",
      "                  <scholarly.scholarly.Publication object at 0x000002609477C188>,\n",
      "                  <scholarly.scholarly.Publication object at 0x000002609477C1C8>,\n",
      "                  <scholarly.scholarly.Publication object at 0x000002609477C208>,\n",
      "                  <scholarly.scholarly.Publication object at 0x000002609477C248>,\n",
      "                  <scholarly.scholarly.Publication object at 0x000002609477C288>,\n",
      "                  <scholarly.scholarly.Publication object at 0x000002609477C2C8>,\n",
      "                  <scholarly.scholarly.Publication object at 0x000002609477C308>,\n",
      "                  <scholarly.scholarly.Publication object at 0x000002609477C348>,\n",
      "                  <scholarly.scholarly.Publication object at 0x000002609477C388>,\n",
      "                  <scholarly.scholarly.Publication object at 0x000002609477C3C8>,\n",
      "                  <scholarly.scholarly.Publication object at 0x000002609491F3C8>,\n",
      "                  <scholarly.scholarly.Publication object at 0x000002609491F408>,\n",
      "                  <scholarly.scholarly.Publication object at 0x000002609491F448>,\n",
      "                  <scholarly.scholarly.Publication object at 0x000002609491F488>,\n",
      "                  <scholarly.scholarly.Publication object at 0x000002609491F4C8>,\n",
      "                  <scholarly.scholarly.Publication object at 0x000002609491F508>,\n",
      "                  <scholarly.scholarly.Publication object at 0x000002609491F548>,\n",
      "                  <scholarly.scholarly.Publication object at 0x000002609491F588>,\n",
      "                  <scholarly.scholarly.Publication object at 0x000002609491F5C8>,\n",
      "                  <scholarly.scholarly.Publication object at 0x000002609491F608>,\n",
      "                  <scholarly.scholarly.Publication object at 0x000002609491F648>,\n",
      "                  <scholarly.scholarly.Publication object at 0x000002609491F688>,\n",
      "                  <scholarly.scholarly.Publication object at 0x000002609491F6C8>,\n",
      "                  <scholarly.scholarly.Publication object at 0x000002609491F708>,\n",
      "                  <scholarly.scholarly.Publication object at 0x000002609491F748>,\n",
      "                  <scholarly.scholarly.Publication object at 0x000002609491F788>,\n",
      "                  <scholarly.scholarly.Publication object at 0x000002609491F7C8>,\n",
      "                  <scholarly.scholarly.Publication object at 0x000002609491F808>,\n",
      "                  <scholarly.scholarly.Publication object at 0x000002609491F848>,\n",
      "                  <scholarly.scholarly.Publication object at 0x000002609491F888>,\n",
      "                  <scholarly.scholarly.Publication object at 0x000002609491F8C8>,\n",
      "                  <scholarly.scholarly.Publication object at 0x000002609491F908>,\n",
      "                  <scholarly.scholarly.Publication object at 0x000002609491F948>,\n",
      "                  <scholarly.scholarly.Publication object at 0x000002609491F988>,\n",
      "                  <scholarly.scholarly.Publication object at 0x000002609491F9C8>,\n",
      "                  <scholarly.scholarly.Publication object at 0x000002609491FA08>,\n",
      "                  <scholarly.scholarly.Publication object at 0x000002609491FA48>,\n",
      "                  <scholarly.scholarly.Publication object at 0x000002609491FA88>,\n",
      "                  <scholarly.scholarly.Publication object at 0x000002609491FAC8>,\n",
      "                  <scholarly.scholarly.Publication object at 0x000002609491FB08>,\n",
      "                  <scholarly.scholarly.Publication object at 0x000002609491FB48>,\n",
      "                  <scholarly.scholarly.Publication object at 0x000002609491FB88>,\n",
      "                  <scholarly.scholarly.Publication object at 0x000002609491FBC8>,\n",
      "                  <scholarly.scholarly.Publication object at 0x000002609491FC08>,\n",
      "                  <scholarly.scholarly.Publication object at 0x000002609491FC48>,\n",
      "                  <scholarly.scholarly.Publication object at 0x000002609491FC88>,\n",
      "                  <scholarly.scholarly.Publication object at 0x000002609491FCC8>,\n",
      "                  <scholarly.scholarly.Publication object at 0x000002609491FD08>,\n",
      "                  <scholarly.scholarly.Publication object at 0x000002609491FD48>,\n",
      "                  <scholarly.scholarly.Publication object at 0x000002609491FD88>,\n",
      "                  <scholarly.scholarly.Publication object at 0x000002609491FDC8>,\n",
      "                  <scholarly.scholarly.Publication object at 0x000002609491FE08>,\n",
      "                  <scholarly.scholarly.Publication object at 0x000002609491FE48>,\n",
      "                  <scholarly.scholarly.Publication object at 0x000002609491FE88>,\n",
      "                  <scholarly.scholarly.Publication object at 0x000002609491FEC8>,\n",
      "                  <scholarly.scholarly.Publication object at 0x000002609491FF08>,\n",
      "                  <scholarly.scholarly.Publication object at 0x000002609491FF48>,\n",
      "                  <scholarly.scholarly.Publication object at 0x000002609491FF88>,\n",
      "                  <scholarly.scholarly.Publication object at 0x000002609491FFC8>,\n",
      "                  <scholarly.scholarly.Publication object at 0x000002609492A048>,\n",
      "                  <scholarly.scholarly.Publication object at 0x000002609492A088>,\n",
      "                  <scholarly.scholarly.Publication object at 0x000002609492A0C8>,\n",
      "                  <scholarly.scholarly.Publication object at 0x000002609492A108>,\n",
      "                  <scholarly.scholarly.Publication object at 0x000002609492A148>,\n",
      "                  <scholarly.scholarly.Publication object at 0x000002609492A188>,\n",
      "                  <scholarly.scholarly.Publication object at 0x000002609492A1C8>,\n",
      "                  <scholarly.scholarly.Publication object at 0x000002609492A208>,\n",
      "                  <scholarly.scholarly.Publication object at 0x000002609492A248>,\n",
      "                  <scholarly.scholarly.Publication object at 0x000002609492A288>,\n",
      "                  <scholarly.scholarly.Publication object at 0x000002609492A2C8>,\n",
      "                  <scholarly.scholarly.Publication object at 0x000002609492A308>,\n",
      "                  <scholarly.scholarly.Publication object at 0x000002609492A348>,\n",
      "                  <scholarly.scholarly.Publication object at 0x000002609492A388>,\n",
      "                  <scholarly.scholarly.Publication object at 0x000002609492A3C8>,\n",
      "                  <scholarly.scholarly.Publication object at 0x000002609492A408>,\n",
      "                  <scholarly.scholarly.Publication object at 0x000002609492A448>,\n",
      "                  <scholarly.scholarly.Publication object at 0x000002609492A488>,\n",
      "                  <scholarly.scholarly.Publication object at 0x000002609492A4C8>,\n",
      "                  <scholarly.scholarly.Publication object at 0x000002609492A508>,\n",
      "                  <scholarly.scholarly.Publication object at 0x000002609492A548>,\n",
      "                  <scholarly.scholarly.Publication object at 0x000002609492A588>,\n",
      "                  <scholarly.scholarly.Publication object at 0x000002609492A5C8>,\n",
      "                  <scholarly.scholarly.Publication object at 0x000002609492A608>,\n",
      "                  <scholarly.scholarly.Publication object at 0x000002609492A648>,\n",
      "                  <scholarly.scholarly.Publication object at 0x000002609492A688>,\n",
      "                  <scholarly.scholarly.Publication object at 0x000002609492A6C8>,\n",
      "                  <scholarly.scholarly.Publication object at 0x000002609492A708>,\n",
      "                  <scholarly.scholarly.Publication object at 0x000002609492A748>,\n",
      "                  <scholarly.scholarly.Publication object at 0x000002609492A788>,\n",
      "                  <scholarly.scholarly.Publication object at 0x000002609492A7C8>,\n",
      "                  <scholarly.scholarly.Publication object at 0x000002609492A808>,\n",
      "                  <scholarly.scholarly.Publication object at 0x000002609492A848>,\n",
      "                  <scholarly.scholarly.Publication object at 0x000002609492A888>,\n",
      "                  <scholarly.scholarly.Publication object at 0x000002609492A8C8>,\n",
      "                  <scholarly.scholarly.Publication object at 0x000002609492A908>,\n",
      "                  <scholarly.scholarly.Publication object at 0x000002609492A948>,\n",
      "                  <scholarly.scholarly.Publication object at 0x000002609492A988>,\n",
      "                  <scholarly.scholarly.Publication object at 0x000002609492A9C8>,\n",
      "                  <scholarly.scholarly.Publication object at 0x000002609492AA08>,\n",
      "                  <scholarly.scholarly.Publication object at 0x000002609492AA48>,\n",
      "                  <scholarly.scholarly.Publication object at 0x000002609492AA88>,\n",
      "                  <scholarly.scholarly.Publication object at 0x000002609492AAC8>,\n",
      "                  <scholarly.scholarly.Publication object at 0x000002609492AB08>,\n",
      "                  <scholarly.scholarly.Publication object at 0x000002609492AB48>],\n",
      " 'url_picture': 'https://scholar.google.com/citations?view_op=medium_photo&user=PpCvyN8AAAAJ'}\n"
     ]
    }
   ],
   "source": [
    "# Retrieve the author's data, fill-in, and print\n",
    "search_query = sch.search_author('JM Chung')\n",
    "author = next(search_query).fill()\n",
    "print(author)"
   ]
  },
  {
   "cell_type": "code",
   "execution_count": 35,
   "metadata": {},
   "outputs": [
    {
     "name": "stdout",
     "output_type": "stream",
     "text": [
      "['Quantitative assessment of tactile allodynia in the rat paw', 'An experimental model for peripheral neuropathy produced by segmental spinal nerve ligation in the rat', 'Heritability of nociception I: responses of 11 inbred mouse strains on 12 measures of nociception', 'Neurogenic hyperalgesia: central neural correlates in responses of spinothalamic tract neurons', 'Comparison of three rodent neuropathic pain models', 'Reactive oxygen species (ROS) play an important role in a rat model of neuropathic pain', 'Cutaneous sensory receptors in the rat foot', 'The anti-allodynic effects of amitriptyline, gabapentin, and lidocaine in a rat model of neuropathic pain', 'Signs of neuropathic pain depend on signals from injured nerve fibers in a rat model', 'Contributions of injured and intact afferents to neuropathic pain in an experimental rat model', \"Heritability of nociception II.[] Types' of nociception revealed by genetic correlation analysis\", 'Correlation of cell body size, axon size, and signal conduction velocity for individually labelled dorsal root ganglion cells in the cat', 'Effects of iontophoretically released amino acids and amines on primate spinothalamic tract cells', 'Sympathetic sprouting in the dorsal root ganglia of the injured peripheral nerve in a rat neuropathic pain model', 'Factors influencing peripheral nerve stimulation produced inhibition of primate spinothalamic tract cells', 'Reactive oxygen species (ROS) are involved in enhancement of NMDA-receptor phosphorylation in animal models of pain', 'Characteristics of ectopic discharges in a rat neuropathic pain model', 'Abnormalities of sympathetic innervation in the area of an injured peripheral nerve in a rat model of neuropathic pain', 'Responses of primate spinothalamic neurons to graded and to repeated noxious heat stimuli', 'The changes in expression of three subtypes of TTX sensitive sodium channels in sensory neurons after spinal nerve ligation', 'Inhibition of primate spinothalamic tract cells by TENS', 'Excitation of primate spinothalamic neurons by cutaneous C-fiber volleys', 'Reactive oxygen species contribute to neuropathic pain by reducing spinal GABA release', 'Sympathectomy alleviates mechanical allodynia in an experimental animal model for neuropathy in the rat', 'The role of reactive oxygen species in capsaicin-induced mechanical hyperalgesia and in the activities of dorsal horn neurons', 'Prolonged inhibition of primate spinothalamic tract cells by peripheral nerve stimulation', 'Enhancement of NMDA receptor phosphorylation of the spinal dorsal horn and nucleus gracilis neurons in neuropathic rats', 'Analgesic effect of vitamin E is mediated by reducing central sensitization in neuropathic pain', 'Oxidative stress in the spinal cord is an important contributor in capsaicin-induced mechanical secondary hyperalgesia in mice', 'Levels of mitochondrial reactive oxygen species increase in rat neuropathic spinal dorsal horn neurons', 'Sympathetic preganglionic neurons of the cat spinal cord: horseradish peroxidase study', 'Persistent pain is dependent on spinal mitochondrial antioxidant levels', 'Acupuncture analgesia in a new rat model of ankle sprain pain', 'Response characteristics of neurons in the ventral posterior lateral nucleus of the monkey thalamus', 'Cells of origin of the spinoreticular tract in the monkey', 'Mechanical and heat sensitization of cutaneous nociceptors in rats with experimental peripheral neuropathy', 'Classification of primate spinothalamic and somatosensory thalamic neurons based on cluster analysis', 'Low dose of tetrodotoxin reduces neuropathic pain behaviors in an animal model', 'Facilitation of the responses of primate spinothalamic cells to cold and to tactile stimuli by noxious heating of the skin', 'Different strains and substrains of rats show different levels of neuropathic pain behaviors', 'Inhibition of nociceptive and nonnociceptive responses of primate spinothalamic cells by stimulation in medial brain stem.', 'Inhibition and excitation of primate spinothalamic tract neurons by stimulation in region of nucleus reticularis gigantocellularis', 'Behavioral manifestations of an experimental model for peripheral neuropathy produced by spinal nerve ligation in the primate', 'Segmental spinal nerve ligation model of neuropathic pain', 'Comparison of sympathetic sprouting in sensory ganglia in three animal models of neuropathic pain', 'Increased nitric oxide synthase immunoreactivity in rat dorsal root ganglia in a neuropathic pain model', 'Two variables that can be used as pain indices in experimental animal models of arthritis', 'Nitric oxide mediates behavioral signs of neuropathic pain in an experimental rat model', 'Expression of nerve growth factor in the dorsal root ganglion after peripheral nerve injury', 'Changes in three subtypes of tetrodotoxin sensitive sodium channel expression in the axotomized dorsal root ganglion in the rat', 'Electro-acupuncture relieves chronic visceral hyperalgesia in rats', 'Receptor subtype mediating the adrenergic sensitivity of pain behavior and ectopic discharges in neuropathic Lewis rats', 'Preemptive intrathecal ketamine injection produces a long-lasting decrease in neuropathic pain behaviors in a rat model', 'Sprouting sympathetic fibers form synaptic varicosities in the dorsal root ganglion of the rat with neuropathic injury', 'Prolonged, naloxone-reversible inhibition of the flexion reflex in the cat', 'Effects of capsaicin applied to a peripheral nerve on the responses of primate spinothalamic tract cells', 'Effects of iontophoretically released peptides on primate spinothalamic tract cells', 'Importance of hyperexcitability of DRG neurons in neuropathic pain', 'Models of neuropathic pain in the rat', 'Differential expression of alpha1-adrenoceptor subtype mRNAs in the dorsal root ganglion after spinal nerve ligation', 'Expression of neurotrophin mRNAs in the dorsal root ganglion after spinal nerve injury', 'Loss of dorsal root ganglion cells concomitant with dorsal root axon sprouting following segmental nerve lesions', 'Injury discharges regulate calcium channel alpha-2-delta-1 subunit upregulation in the dorsal horn that contributes to initiation of neuropathic pain', 'Sympathetic neurons in the cat spinal cord projecting to the stellate ganglion', 'Differential activation and classification of cutaneous afferents in the rat', 'The role of reactive oxygen species (ROS) in persistent pain', 'Ectopic discharges and adrenergic sensitivity of sensory neurons after spinal nerve injury', 'Ion channels associated with the ectopic discharges generated after segmental spinal nerve injury in the rat', 'Funicular trajectories of brainstem neurons projecting to the lumbar spinal cord in the monkey (Macaca fascicularis): a retrograde labeling study', 'Mitochondrial Ca2+ uptake is essential for synaptic plasticity in pain', 'Actions of opioids on primate spinothalamic tract neurons', 'Electroacupuncture-induced analgesia in a rat model of ankle sprain pain is mediated by spinal α-adrenoceptors', 'Involvement of reactive oxygen species in long-term potentiation in the spinal cord dorsal horn', 'Increased production of mitochondrial superoxide in the spinal cord induces pain behaviors in mice: the effect of mitochondrial electron transport complex inhibitors', 'Strain differences in adrenergic sensitivity of neuropathic pain behaviors in an experimental rat model', 'Proteomics study of neuropathic and nonneuropathic dorsal root ganglia: altered protein regulation following segmental spinal nerve ligation injury', 'Cat phrenic nucleus architecture as revealed by horseradish peroxidase mapping', 'Electroacupuncture suppresses capsaicin-induced secondary hyperalgesia through an endogenous spinal opioid mechanism', 'Abnormalities of mechanoreceptors in a rat model of neuropathic pain: possible involvement in mediating mechanical allodynia', 'Adrenergic sensitivity of the sensory receptors modulating mechanical allodynia in a rat neuropathic pain model', 'Sympathetic sprouting in the dorsal root ganglion after spinal nerve ligation: evidence of regenerative collateral sprouting', 'Effect of isolated head heating and cooling on sweating in man.', 'Activation of central neurons by ventral root afferents', 'Effect of antioxidant treatment on spinal GABA neurons in a neuropathic pain model in the mouse', 'Effects of purinergic and adrenergic antagonists in a rat model of painful peripheral neuropathy', 'Effects of age on behavioral signs of neuropathic pain in an experimental rat model', 'Midbrain nuclei projecting to the medial medulla oblongata in the monkey', 'Functional motoneurons develop from human neural stem cell transplants in adult rats', 'Changes in the gene expression of six subtypes of P2X receptors in rat dorsal root ganglion after spinal nerve ligation', 'Norepinephrine rekindles mechanical allodynia in sympathectomized neuropathic rat', 'Peripheral norepinephrine exacerbates neuritis-induced hyperalgesia', 'Descending adrenergic input to the primate spinal cord and its possible role in modulation of spinothalamic cells', 'Development of purinergic sensitivity in sensory neurons after peripheral nerve injury in the rat', 'Primary afferent axons in the tract of Lissauer in the monkey', 'Regulation of Wnt signaling by nociceptive input in animal models', 'A new rat model for thrombus-induced ischemic pain (TIIP); development of bilateral mechanical allodynia', 'The effects of small doses of barbiturate on the activity of primate nociceptive tract cells', 'Reactive oxygen species (ROS) modulate AMPA receptor phosphorylation and cell-surface localization in concert with pain-related behavior', 'Facilitation of NMDA-induced currents and Ca2+ transients in the rat substantia gelatinosa neurons after ligation of L5–L6 spinal nerves', 'Activation of dorsal horn cells by ventral root stimulation in the cat', 'Changes in trkA expression in the dorsal root ganglion after peripheral nerve injury', 'Ascending spinal pathways for the somatosympathetic A and C reflexes', 'Ascending pressor and depressor pathways in the cat spinal cord', 'Superoxide signaling in pain is independent from nitric oxide signaling', 'Lack of pre‐emptive analgesic effects of local anaesthetics on neuropathic pain', 'Both motor and sensory abnormalities contribute to changes in foot posture in an experimental rat neuropathic model', 'Somatic afferent fibers which continuously discharge after being isolated from their receptors', 'Neuropathic pain in neonatal rats', 'A surgical ankle sprain pain model in the rat: effects of morphine and indomethacin', 'Electroacupuncture reduces the evoked responses of the spinal dorsal horn neurons in ankle-sprained rats', 'Phenyl Nt-butylnitrone, a reactive oxygen species scavenger, reduces zymosan-induced visceral pain in rats', 'Many ventral root afferent fibers in the cat are third branches of dorsal root ganglion cells', 'Central mechanisms of pain.', 'Peripheral acid-sensing ion channels and P2X receptors contribute to mechanical allodynia in a rodent thrombus-induced ischemic pain model', 'Non-noxious A fiber afferent input enhances capsaicin-induced mechanical hyperalgesia in the rat', 'The effect of lumbar sympathectomy in the spinal nerve ligation model of neuropathic pain', 'Grouping of somatosensory neurons in the spinal cord and the gracile nucleus of the rat by cluster analysis', 'Prolonged ongoing discharges of sensory nerves as recorded in isolated nerves in the rat', 'Spinal entry route for ventral root afferent fibers in the cat', 'Electrophysiological evidence for the presence of fibers in continuity between dorsal and ventrl roots in the cat', 'Induction of long-term potentiation and long-term depression is cell-type specific in the spinal cord', 'Encyclopedia of Pain, 7-Volume Set.', 'Fiber counts at multiple sites along the rat ventral root after neonatal peripheral neurectomy or dorsal rhizotomy', 'Electroacupuncture analgesia in rat ankle sprain pain model: neural mechanisms', 'Inhibition and excitation of the nociceptive flexion reflex by conditioning stimulation of a peripheral nerve in the cat', 'Sodium channel subtypes and neuropathic pain', 'Response properties of hypogastric afferent fibers supplying the uterus in the cat', 'Chronic effects of topical application of capsaicin to the sciatic nerve on responses of primate spinothalamic neurons', 'Blood pressure response evoked by ventral root afferent fibres in the cat.', 'Flexion reflex elicited by ventral root afferents in the cat', 'Prolonged maintenance of capsaicin-induced hyperalgesia by brief daily vibration stimuli', 'Sodium channels and neuropathic pain', 'Acupuncture points can be identified as cutaneous neurogenic inflammatory spots', 'Electrophysiological evidence for an increase in the number of ventral root afferent fibers after neonatal peripheral neurectomy in the rat', 'Antinociceptive effects of peripheral nerve stimulation.', 'Proportion and location of spinal neurons receiving ventral root afferent inputs in the cat', 'Reactive oxygen species affect spinal cell type-specific synaptic plasticity in a model of neuropathic pain.', 'Different classes of cat spinal neurons display differential sensitivity to sodium pentobarbital', 'Effects of systemic morphine on neuropathic pain behaviors in an experimental rat model', 'Immunohistochemical evidence for sprouting of ventral root afferents after neonatal sciatic neurectomy in the rat', 'Neonatal sciatic nerve lesion triggers the sprouting of fibers in the contralateral ventral root of the rat', 'Ascending spinal pathway for arterial pressor response elicited by ventral root afferent inputs in the cat', 'Ascending spinal pathways mediating somato-cardiovascular reflexes', 'The anatomical localization of descending pressor pathways in the cat spinal cord.', 'Evidence for invasion of regenerated ventral root afferents into the spinal cord of the rat subjected to sciatic neurectomy during the neonatal period', 'Increased number of unmyelinated fibers in the ventral root after peripheral neurectomy in adult rat', 'PREGANGLIONIC INNERVATION TO SYMPATHETIC STELLATE GANGLION', 'Differential inhibition produced by peripheral conditioning stimulation on noxious mechanical and thermal responses of different classes of spinal neurons in the cat', 'Sympathetic involvement in the spinal nerve ligation model of neuropathic pain', 'Electrophysiological evidence for the presence of looping myelinated afferent fibers in the rat ventral root', 'An energy-efficient wirelessly powered millimeter-scale neurostimulator implant based on systematic codesign of an inductive loop antenna and a custom rectifier', 'Responses of spinal dorsal horn neurons to foot movements in rats with a sprained ankle', 'SPINOTHALAMIC NEURONS AND HYPERALGESIA-EVIDENCE FROM ANESTHETIZED MACAQUES', 'Neurophysiological evidence for spatial summation in the CNS from unmyelinated afferent fibers', 'ASCENDING SPINAL CONNECTIONS TO MEDULLARY RETICULAR-FORMATION IN CATS AND MONKEYS', 'Peripheral conditioning stimulation produces differentially greater antinociceptive effect on noxious thermal response in the cat', 'Morphine sensitive components of the flexion reflex', 'Neurophysiological mechanisms of acupuncture analgesia in experimental animal models', 'Effect of electrical stimulation of peripheral nerve on pain reaction', 'Peripheral afferents and spinal inhibitory system in dynamic and static mechanical allodynia', 'Dysregulation of norepinephrine release in the absence of functional synaptotagmin 7', 'Voltage‐Gated Sodium Channels and Neuropathic Pain', 'Transcutaneous nerve stimulation inhibits spinothalamic tract cells', 'Segmental distribution of dorsal root ganglion cells with axons in the inferior cardiac nerve', 'Effects of Ginseng extract on excitable cell membrane potential', 'INHIBITION OF RESPONSES OF PRIMATE SPINOTHALAMIC TRACT NEURONS TO C-FIBER VOLLEYS BY STIMULATION OF THE NUCLEUS RAPHE MAGNUS', 'Localization of ascending depressor pathway in the cat spinal cord', 'Peripheral and central oxidative stress in chemotherapy-induced neuropathic pain', 'Nociceptive role of the ventral root afferents', 'Mitochondrial superoxide increases excitatory synaptic strength in spinal dorsal horn neurons of neuropathic mice', 'Differential involvement of reactive oxygen species in a mouse model of capsaicin-induced secondary mechanical hyperalgesia and allodynia', 'Intrathecal needle guide apparatus', 'Intrathecal injection guide apparatus and methods for making and using same', 'Electroacupuncture modulates excitability of the spinal dorsal horn neurons in rats with sprained ankle', 'Effects of amitriptyline and gabapentin in a rat model of neuropathic pain.', 'Classification of somatosensory tract cells by cluster analysis.', 'Identification and localization of sympathetic preganglionic neurons by horseradish peroxidase', 'The Relationship Between β-Endorphin and Experimental Pain Sensitivity in Older Adults With Knee Osteoarthritis', 'An Energy-efficient Wirelessly Powered Millimeter-scale Neurostimulator with Optimized Inductive Loop Antenna and Custom Rectifier', '(328) Effects of specific ROS scavengers on synaptic plasticity and mechanical hypersensitivity in neuropathic mice', 'Animal Models and Experimental Tests to Study Nociception and Pain', 'Nociceptive role of the ventral root afferents', 'TENS inhibits primate spinothalamic tract cells', 'CUTANEOUS C-FIBER ACTIVATION OF PRIMATE SPINOTHALAMIC TRACT NEURONS', 'NEUROPHYSIOLOGICAL EVIDENCE FOR ASCENDING PRESSOR AND DEPRESSOR PATHWAYS IN CAT SPINAL-CORD', 'Maternal vaccination and protective immunity against Zika virus vertical transmission', 'Microglia mediate HIV-1 gp120-induced synaptic degeneration in spinal pain neural circuits', 'Neuropathic Pain Model, Spinal Nerve Ligation Model', 'Sprained Ankle Pain Model', 'Number 1-January 1983', 'The Editor wishes to thank the following individuals for their assistance in reviewing manuscripts for APS Journal Volumes 2 and 3. Stephen Abram Karen Berkley', 'THE OFFICIAL JOURNAL OF THE SOCI', 'Articles to be Published in Future Issues', 'Articles to be Published in Future Issues']\n"
     ]
    }
   ],
   "source": [
    "# Print the titles of the author's publications\n",
    "print([pub.bib['title'] for pub in author.publications])"
   ]
  },
  {
   "cell_type": "code",
   "execution_count": 14,
   "metadata": {},
   "outputs": [
    {
     "name": "stdout",
     "output_type": "stream",
     "text": [
      "{'_filled': True,\n",
      " 'bib': {'eprint': 'https://ieeexplore.ieee.org/iel5/4543165/4543166/05210096.pdf',\n",
      "         'title': 'A frequency-domain analysis of haptic gratings',\n",
      "         'url': 'https://ieeexplore.ieee.org/abstract/document/5210096/',\n",
      "         'year': 2009},\n",
      " 'citedby': 48,\n",
      " 'id_citations': '4bahYMkAAAAJ:u5HHmVD_uO8C',\n",
      " 'source': 'citations'}\n"
     ]
    }
   ],
   "source": [
    "# Take a closer look at the first publication\n",
    "pub = author.publications[0].fill()\n",
    "print(pub)"
   ]
  },
  {
   "cell_type": "code",
   "execution_count": 36,
   "metadata": {},
   "outputs": [
    {
     "name": "stdout",
     "output_type": "stream",
     "text": [
      "{'_filled': True,\n",
      " 'bib': {'title': 'An experimental model for peripheral neuropathy produced by '\n",
      "                  'segmental spinal nerve ligation in the rat',\n",
      "         'url': 'https://www.sciencedirect.com/science/article/pii/0304395992900419',\n",
      "         'year': 1992},\n",
      " 'citedby': 3598,\n",
      " 'id_citations': 'PpCvyN8AAAAJ:SdhP9T11ey4C',\n",
      " 'source': 'citations'}\n"
     ]
    }
   ],
   "source": [
    "# Take a closer look at the first publication\n",
    "pub = author.publications[1].fill()\n",
    "print(pub)"
   ]
  },
  {
   "cell_type": "code",
   "execution_count": 37,
   "metadata": {},
   "outputs": [
    {
     "name": "stdout",
     "output_type": "stream",
     "text": [
      "[]\n"
     ]
    }
   ],
   "source": [
    "# Which papers cited that publication?\n",
    "print([citation.bib['title'] for citation in pub.get_citedby()])"
   ]
  },
  {
   "cell_type": "code",
   "execution_count": 50,
   "metadata": {},
   "outputs": [
    {
     "name": "stdout",
     "output_type": "stream",
     "text": [
      "No title No link No citation count\n"
     ]
    }
   ],
   "source": [
    "import requests\n",
    "from bs4 import BeautifulSoup as bs\n",
    "\n",
    "#queries = ['The impact of day‐trading on volatility and liquidity',\n",
    "#         'Do foreign investors price foreign exchange risk differently?']\n",
    "queries = ['The impact of day‐trading on volatility and liquidity']\n",
    "\n",
    "with requests.Session() as s:\n",
    "    for query in queries:\n",
    "        url = 'https://scholar.google.com/scholar?q=' + query + '&ie=UTF-8&oe=UTF-8&hl=en&btnG=Search'\n",
    "        r = s.get(url)\n",
    "#        print(r.content)\n",
    "        soup = bs(r.content, 'html') # or 'html.parser' 'lxml'\n",
    "        title = soup.select_one('h3.gs_rt a').text if soup.select_one('h3.gs_rt a') is not None else 'No title'\n",
    "        link = soup.select_one('h3.gs_rt a')['href'] if title != 'No title' else 'No link'\n",
    "        citations = soup.select_one('a:contains(\"Cited by\")').text if soup.select_one('a:contains(\"Cited by\")') is not None else 'No citation count'\n",
    "        print(title, link, citations) \n"
   ]
  },
  {
   "cell_type": "code",
   "execution_count": null,
   "metadata": {},
   "outputs": [],
   "source": []
  }
 ],
 "metadata": {
  "kernelspec": {
   "display_name": "Python 3",
   "language": "python",
   "name": "python3"
  },
  "language_info": {
   "codemirror_mode": {
    "name": "ipython",
    "version": 3
   },
   "file_extension": ".py",
   "mimetype": "text/x-python",
   "name": "python",
   "nbconvert_exporter": "python",
   "pygments_lexer": "ipython3",
   "version": "3.7.4"
  }
 },
 "nbformat": 4,
 "nbformat_minor": 2
}
