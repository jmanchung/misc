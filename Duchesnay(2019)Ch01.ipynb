{
 "cells": [
  {
   "cell_type": "markdown",
   "metadata": {},
   "source": [
    "# Duchesnay(2019)Statistics and Machine Learning in Python\n",
    "## 1. python ecosystem for data-science\n",
    "### 1.4 Libraries"
   ]
  },
  {
   "cell_type": "code",
   "execution_count": 43,
   "metadata": {},
   "outputs": [
    {
     "name": "stdout",
     "output_type": "stream",
     "text": [
      "X = \n",
      " [[1 2]\n",
      " [3 4]]\n",
      "\n",
      "v = \n",
      " [5 6]\n",
      "\n",
      "np.dot(X, v) = \n",
      " [17 39] \n",
      " = [1*5+2*6 3*5+4*6] \n",
      "\n",
      "X * v = \n",
      " [[ 5 12]\n",
      " [15 24]] \n",
      " = [[1*5 2*6]\n",
      "[3*5 4*6]]\n",
      "\n",
      "np.dot(v, X) =\n",
      "  [23 34] \n",
      " = [5*1+6*3 5*2+6*4]\n",
      "\n",
      "X.mean(axis=0) = \n",
      " [2. 3.] \n",
      " = [(1+3)/2 (2+4)/2]\n",
      "\n",
      "X - X.mean(axis=0) = \n",
      " [[-1. -1.]\n",
      " [ 1.  1.]] \n",
      " = [[1-2 2-3]\n",
      "[3-2 4-2]]\n"
     ]
    }
   ],
   "source": [
    "# Numpy: Basic numerical operation. Matrix operation plus some basic solvers.:\n",
    "import numpy as np\n",
    "\n",
    "X = np.array([[1, 2], [3, 4]])                    # 2*2 array\n",
    "print(\"X = \\n\",X)\n",
    "\n",
    "v = np.array([5, 6])                              # 1*2 array\n",
    "#v = np.array([1, 2]).reshape((2, 1))\n",
    "print(\"\\nv = \\n\", v)\n",
    "\n",
    "o1 = np.dot(X, v)                                 # inner product\n",
    "print(\"\\nnp.dot(X, v) = \\n\", o1, \"\\n = [1*5+2*6 3*5+4*6] \\n\")\n",
    "\n",
    "o2 = X * v                                        # element by element product\n",
    "print(\"X * v = \\n\", o2, \"\\n = [[1*5 2*6]\\n[3*5 4*6]]\\n\")\n",
    "\n",
    "o3 = np.dot(v, X)\n",
    "print(\"np.dot(v, X) =\\n \", o3, \"\\n = [5*1+6*3 5*2+6*4]\\n\")\n",
    "\n",
    "m = X.mean(axis=0)                                # mean of column\n",
    "print(\"X.mean(axis=0) = \\n\", m, \"\\n = [(1+3)/2 (2+4)/2]\\n\")\n",
    "\n",
    "o4 = X - X.mean(axis=0)\n",
    "print(\"X - X.mean(axis=0) = \\n\", o4, \"\\n = [[1-2 2-3]\\n[3-2 4-2]]\")"
   ]
  },
  {
   "cell_type": "code",
   "execution_count": 53,
   "metadata": {},
   "outputs": [
    {
     "name": "stdout",
     "output_type": "stream",
     "text": [
      "X = \n",
      " [[1 2]\n",
      " [3 4]] \n",
      "\n",
      "U=\n",
      " [[-0.40455358 -0.9145143 ]\n",
      " [-0.9145143   0.40455358]] \n",
      "\n",
      "s=\n",
      " [5.4649857  0.36596619] \n",
      "\n",
      "Vh=\n",
      " [[-0.57604844 -0.81741556]\n",
      " [ 0.81741556 -0.57604844]] \n",
      "\n"
     ]
    }
   ],
   "source": [
    "# Scipy: general scientific libraries with advanced solver:\n",
    "import scipy\n",
    "import scipy.linalg\n",
    "\n",
    "import numpy as np\n",
    "\n",
    "X = np.array([[1, 2], [3, 4]])\n",
    "print(\"X = \\n\",X, \"\\n\")\n",
    "\n",
    "U, s, Vh = scipy.linalg.svd(X, full_matrices=False)               # Singular Value Decomposition\n",
    "print(\"U=\\n\",U, \"\\n\")\n",
    "print(\"s=\\n\",s, \"\\n\")\n",
    "print(\"Vh=\\n\",Vh, \"\\n\")"
   ]
  },
  {
   "cell_type": "code",
   "execution_count": 3,
   "metadata": {},
   "outputs": [
    {
     "name": "stdout",
     "output_type": "stream",
     "text": [
      "x = \n",
      " [ 0.          0.20408163  0.40816327  0.6122449   0.81632653  1.02040816\n",
      "  1.2244898   1.42857143  1.63265306  1.83673469  2.04081633  2.24489796\n",
      "  2.44897959  2.65306122  2.85714286  3.06122449  3.26530612  3.46938776\n",
      "  3.67346939  3.87755102  4.08163265  4.28571429  4.48979592  4.69387755\n",
      "  4.89795918  5.10204082  5.30612245  5.51020408  5.71428571  5.91836735\n",
      "  6.12244898  6.32653061  6.53061224  6.73469388  6.93877551  7.14285714\n",
      "  7.34693878  7.55102041  7.75510204  7.95918367  8.16326531  8.36734694\n",
      "  8.57142857  8.7755102   8.97959184  9.18367347  9.3877551   9.59183673\n",
      "  9.79591837 10.        ] \n",
      "\n",
      "np.sin(x) = \n",
      " [ 0.          0.20266794  0.39692415  0.57470604  0.72863478  0.85232157\n",
      "  0.94063279  0.98990308  0.99808748  0.96484631  0.89155923  0.78126802\n",
      "  0.63855032  0.46932961  0.2806294   0.08028167 -0.12339814 -0.32195632\n",
      " -0.50715171 -0.67129779 -0.80758169 -0.91034694 -0.97532829 -0.99982867\n",
      " -0.9828312  -0.92504137 -0.82885774 -0.6982724  -0.53870529 -0.35677924\n",
      " -0.16004509  0.04333173  0.24491007  0.43632343  0.6096272   0.75762842\n",
      "  0.8741843   0.9544572   0.99511539  0.99447137  0.95255185  0.8710967\n",
      "  0.75348673  0.60460332  0.43062587  0.23877532  0.0370144  -0.16628279\n",
      " -0.36267843 -0.54402111] \n",
      "\n"
     ]
    },
    {
     "data": {
      "image/png": "[encoded data removed]",
      "text/plain": [
       "<Figure size 432x288 with 1 Axes>"
      ]
     },
     "metadata": {
      "needs_background": "light"
     },
     "output_type": "display_data"
    }
   ],
   "source": [
    "# Matplotlib: visualization:\n",
    "import numpy as np\n",
    "import matplotlib.pyplot as plt\n",
    "\n",
    "#%matplotlib qt\n",
    "\n",
    "x = np.linspace(0, 10, 50)                                # evenly spaced numbers over a specified interval\n",
    "print(\"x = \\n\", x, \"\\n\")\n",
    "\n",
    "sinus = np.sin(x)                                         # sine function\n",
    "print(\"np.sin(x) = \\n\", sinus, \"\\n\")\n",
    "\n",
    "plt.title(\"sine function\")\n",
    "plt.plot(x, sinus)                                        # plot y versus x as lines and/or markers\n",
    "plt.show()"
   ]
  },
  {
   "cell_type": "code",
   "execution_count": null,
   "metadata": {},
   "outputs": [],
   "source": []
  },
  {
   "cell_type": "code",
   "execution_count": null,
   "metadata": {},
   "outputs": [],
   "source": []
  }
 ],
 "metadata": {
  "kernelspec": {
   "display_name": "Python 3",
   "language": "python",
   "name": "python3"
  },
  "language_info": {
   "codemirror_mode": {
    "name": "ipython",
    "version": 3
   },
   "file_extension": ".py",
   "mimetype": "text/x-python",
   "name": "python",
   "nbconvert_exporter": "python",
   "pygments_lexer": "ipython3",
   "version": "3.7.4"
  }
 },
 "nbformat": 4,
 "nbformat_minor": 2
}
